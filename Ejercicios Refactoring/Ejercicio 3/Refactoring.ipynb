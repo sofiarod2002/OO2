{
  "metadata": {
    "kernelspec": {
      "display_name": "Python (Pyodide)",
      "language": "python",
      "name": "python"
    },
    "language_info": {
      "codemirror_mode": {
        "name": "python",
        "version": 3
      },
      "file_extension": ".py",
      "mimetype": "text/x-python",
      "name": "python",
      "nbconvert_exporter": "python",
      "pygments_lexer": "ipython3",
      "version": "3.8"
    }
  },
  "nbformat_minor": 4,
  "nbformat": 4,
  "cells": [
    {
      "cell_type": "markdown",
      "source": "# Mal olor: switch statements.",
      "metadata": {}
    },
    {
      "cell_type": "code",
      "source": "public class GestorNumerosDisponibles {\n    public String obtenerNumeroLibre() {\n    \tString linea;\n    \tswitch (tipoGenerador) {\n            case \"ultimo\":\n                linea = lineas.last();\n                lineas.remove(linea);\n                return linea;\n            case \"primero\":\n                linea = lineas.first();\n                lineas.remove(linea);\n                return linea;\n            case \"random\":\n                linea = new ArrayList<String>(lineas)\n                        .get(new Random().nextInt(lineas.size()));\n                lineas.remove(linea);\n                return linea;\n        }\n        return null;\n    \t}\n    }\n}",
      "metadata": {
        "trusted": true
      },
      "outputs": [],
      "execution_count": null
    },
    {
      "cell_type": "markdown",
      "source": "### Refactoring: replace conditional logic with strategy.",
      "metadata": {}
    },
    {
      "cell_type": "markdown",
      "source": "#### Creamos la clase strategy y las respectivas subclases que son las concreteStrategy",
      "metadata": {}
    },
    {
      "cell_type": "code",
      "source": "public abstract class GestorNumerosDisponibles {\n\tprivate SortedSet<String> lineas = new TreeSet<String>();\n\tprivate GestorNumerosDisponibles tipoGenerador = new GestorNumerosDisponiblesUltimo;\n\n\tpublic SortedSet<String> getLineas() {\n\t\treturn lineas;\n\t}\n\n\tpublic abstract String obtenerNumeroLibre();\n\n\tpublic void cambiarTipoGenerador(GestorNumerosDisponibles valor) {\n\t\tthis.tipoGenerador = valor;\n\t}\n}\n\npublic class GestorNumerosDisponiblesUltimo extends GestorNumerosDisponibles{\n    public String obtenerNumeroLibre() {\n\t\tString linea = getLineas().last();\n\t\tgetLineas().remove(linea);\n\t\treturn linea;\n\t}\n}\n\npublic class GestorNumerosDisponiblesPrimero extends GestorNumerosDisponibles{\n    public String obtenerNumeroLibre() {\n\t\tString linea = getLineas().first();\n\t\tgetLineas().remove(linea);\n\t\treturn linea;\n\t}\n}\n\npublic class GestorNumerosDisponiblesRandom extends GestorNumerosDisponibles{\n    public String obtenerNumeroLibre() {\n\t\tString linea = new ArrayList<String>(getLineas())\n\t\t\t\t\t\t.get(new Random().nextInt(getLineas().size()));\n\t\tlineas.remove(getLineas());\n\t\treturn linea;\n    }\n}",
      "metadata": {
        "trusted": true
      },
      "outputs": [],
      "execution_count": null
    },
    {
      "cell_type": "markdown",
      "source": "# Mal olor: Mala delegacion de las tareas",
      "metadata": {}
    },
    {
      "cell_type": "code",
      "source": "public abstract class GestorNumerosDisponibles {\n\tprivate SortedSet<String> lineas = new TreeSet<String>();\n\tprivate GestorNumerosDisponibles tipoGenerador = new GestorNumerosDisponiblesUltimo;\n\n\tpublic void cambiarTipoGenerador(GestorNumerosDisponibles valor) {\n\t\tthis.tipoGenerador = valor;\n\t}",
      "metadata": {
        "trusted": true
      },
      "outputs": [],
      "execution_count": null
    },
    {
      "cell_type": "markdown",
      "source": "### Refactoring: Move method a empresa",
      "metadata": {}
    },
    {
      "cell_type": "code",
      "source": "public class Empresa {\n\tprivate List<Cliente> clientes = new ArrayList<Cliente>();\n\tprivate List<Llamada> llamadas = new ArrayList<Llamada>();\n\tprivate GestorNumerosDisponibles guia = new GestorNumerosDisponiblesUltimo();\n\t\t\n\tstatic double descuentoJur = 0.15;\n\tstatic double descuentoFis = 0;\n\t\n\tpublic void cambiarTipoGenerador(GestorNumerosDisponibles valor) {\n\t\tSortedSet<String> lineas = guia.getLineas();\n\t\tthis.guia = valor;\n\t\tguia.setLineas(lineas);\n\t}\n\npublic abstract class GestorNumerosDisponibles {\n\tprivate SortedSet<String> lineas = new TreeSet<String>();\n\n\tpublic SortedSet<String> getLineas() {\n\t\treturn lineas;\n\t}\n\n    public void setLineas(SortedSet<String> lineas) {\n\t\tthis.lineas = lineas;\n\t}\n\n\tpublic abstract String obtenerNumeroLibre();\n}\n",
      "metadata": {
        "trusted": true
      },
      "outputs": [],
      "execution_count": null
    },
    {
      "cell_type": "markdown",
      "source": "## Test modificado: al modificar el case con subclases ahora el metodo cambiarTipoGenerador recibe por parametro un tipo de clase GestorNumerosDisponibles.",
      "metadata": {}
    },
    {
      "cell_type": "code",
      "source": "@Test\n\tvoid obtenerNumeroLibre() {\n\t\t// por defecto es el ultimo\n\t\tassertEquals(\"2214444559\", this.sistema.obtenerNumeroLibre());\n\t\t\n\t\tthis.sistema.cambiarTipoGenerador(new GestorNumeroDisponiblePrimero());\n\n\t\tassertEquals(\"2214444554\", this.sistema.obtenerNumeroLibre());\n\n\t\tthis.sistema.cambiarTipoGenerador(new GestorNumeroDisponibleRandom());\n\t\tassertNotNull(this.sistema.obtenerNumeroLibre());\n\t}",
      "metadata": {
        "trusted": true
      },
      "outputs": [],
      "execution_count": null
    },
    {
      "cell_type": "markdown",
      "source": "# Mal olor: Duplicated Code ",
      "metadata": {}
    },
    {
      "cell_type": "code",
      "source": "public class GestorNumerosDisponiblesUltimo extends GestorNumerosDisponibles{\n    public String obtenerNumeroLibre() {\n\t\tString linea = getLineas().last();\n\t\tgetLineas().remove(linea);\n\t\treturn linea;\n\t}\n}\n\npublic class GestorNumerosDisponiblesPrimero extends GestorNumerosDisponibles{\n    public String obtenerNumeroLibre() {\n\t\tString linea = getLineas().first();\n\t\tgetLineas().remove(linea);\n\t\treturn linea;\n\t}\n}\n\npublic class GestorNumerosDisponiblesRandom extends GestorNumerosDisponibles{\n    public String obtenerNumeroLibre() {\n\t\tString linea = new ArrayList<String>(getLineas())\n\t\t\t\t\t\t.get(new Random().nextInt(getLineas().size()));\n\t\tgetLineas.remove(linea);\n\t\treturn linea;\n    }\n}",
      "metadata": {
        "trusted": true
      },
      "outputs": [],
      "execution_count": null
    },
    {
      "cell_type": "markdown",
      "source": "### Refactoring: From template method",
      "metadata": {}
    },
    {
      "cell_type": "markdown",
      "source": "#### Refactoring 1: Compose method",
      "metadata": {}
    },
    {
      "cell_type": "markdown",
      "source": "Como buena práctica eliminamos las variables temporales que no eran necesarias en los métodos ya que el resultado que almacenaban ahora es retornado directamente.",
      "metadata": {}
    },
    {
      "cell_type": "code",
      "source": "public class GestorNumerosDisponiblesUltimo extends GestorNumerosDisponibles{\n    public String obtenerNumeroLibre() {\n\t\treturn getLineas().last();\n\t}\n\n    public void borrarLinea(String linea) {\n\t\tgetLineas.remove(linea);\n\t}\n}\n\npublic class GestorNumerosDisponiblesPrimero extends GestorNumerosDisponibles{\n    public String obtenerNumeroLibre() {\n\t\treturn getLineas().first();\n\t}\n\n    public void borrarLinea(String linea) {\n\t\tgetLineas.remove(linea);\n\t}\n}\n\npublic class GestorNumerosDisponiblesRandom extends GestorNumerosDisponibles{\n        public String obtenerNumeroLibre() {\n\t\treturn new ArrayList<String>(getLineas())\n\t\t\t\t\t\t.get(new Random().nextInt(getLineas().size()));\n    }\n\n        public void borrarLinea(String linea) {\n\t\tgetLineas.remove(linea);\n\t}\n}",
      "metadata": {
        "trusted": true
      },
      "outputs": [],
      "execution_count": null
    },
    {
      "cell_type": "markdown",
      "source": "#### Refactoring 2: Pull up method",
      "metadata": {}
    },
    {
      "cell_type": "code",
      "source": "public abstract class GestorNumerosDisponibles {\n\tprivate SortedSet<String> lineas = new TreeSet<String>();\n\n    public abstract String obtenerNumeroLibre();\n\n\tpublic SortedSet<String> getLineas() {\n\t\treturn lineas;\n\t}\n\n    public void setLineas(SortedSet<String> lineas) {\n\t\tthis.lineas = lineas;\n\t}\n\n\tpublic String obtenerNumero(){\n        String linea = this.obtenerNumeroLibre()\n    \tborrarLinea(linea);\n\t\treturn linea;\n\t}\n\n    public void borrarLinea(String linea) {\n\t\tgetLineas().remove(linea);\n\t}\n}",
      "metadata": {
        "trusted": true
      },
      "outputs": [],
      "execution_count": null
    },
    {
      "cell_type": "markdown",
      "source": "# Mal olor: Los nombres no describen el comportamiento de los metodos/variables",
      "metadata": {}
    },
    {
      "cell_type": "code",
      "source": "public class Llamada{\n    public String getRemitente() \n}",
      "metadata": {
        "trusted": true
      },
      "outputs": [],
      "execution_count": null
    },
    {
      "cell_type": "markdown",
      "source": "### Refactor: Rename method",
      "metadata": {}
    },
    {
      "cell_type": "code",
      "source": "public class Llamada{\n    public String getDestino()\n}",
      "metadata": {
        "trusted": true
      },
      "outputs": [],
      "execution_count": null
    },
    {
      "cell_type": "markdown",
      "source": "# Mal olor: Se rompe en encapsulamiento",
      "metadata": {}
    },
    {
      "cell_type": "code",
      "source": "public class Cliente {\n\tpublic List<Llamada> llamadas = new ArrayList<Llamada>();\n\tprivate String tipo;\n\tprivate String nombre;\n\tprivate String numeroTelefono;\n\tprivate String cuit;\n\tprivate String dni;\n\n\tpublic String getTipo() {\n\t\treturn tipo;\n\t}\n\tpublic void setTipo(String tipo) {\n\t\tthis.tipo = tipo;\n\t}\n\tpublic String getNombre() {\n\t\treturn nombre;\n\t}\n\tpublic void setNombre(String nombre) {\n\t\tthis.nombre = nombre;\n\t}\n\tpublic String getNumeroTelefono() {\n\t\treturn numeroTelefono;\n\t}\n\tpublic void setNumeroTelefono(String numeroTelefono) {\n\t\tthis.numeroTelefono = numeroTelefono;\n\t}\n\tpublic String getCuit() {\n\t\treturn cuit;\n\t}\n\tpublic void setCuit(String cuit) {\n\t\tthis.cuit = cuit;\n\t}\n\tpublic String getDNI() {\n\t\treturn dni;\n\t}\n\tpublic void setDNI(String dni) {\n\t\tthis.dni = dni;\n\t}\n}",
      "metadata": {
        "trusted": true
      },
      "outputs": [],
      "execution_count": null
    },
    {
      "cell_type": "markdown",
      "source": "### Refactoring: Crear un constructor ",
      "metadata": {}
    },
    {
      "cell_type": "code",
      "source": "    public Cliente(String tipo, String nombre, String cuit, String dni) {\n\t\tthis.llamadas = new ArrayList<Llamada>();\n\t\tthis.tipo = tipo;\n\t\tthis.nombre = nombre;\n\t\tthis.cuit = cuit;\n\t\tthis.dni = dni;\n\t}",
      "metadata": {
        "trusted": true
      },
      "outputs": [],
      "execution_count": null
    },
    {
      "cell_type": "markdown",
      "source": "# Mal olor: Switch statements.",
      "metadata": {}
    },
    {
      "cell_type": "code",
      "source": "\tpublic Cliente registrarUsuario(String data, String nombre, String tipo) {\n\t\tCliente var = new Cliente();\n\t\tif (tipo.equals(\"fisica\")) {\n\t\t\tvar.setNombre(nombre);\n\t\t\tString tel = this.obtenerNumeroLibre();\n\t\t\tvar.setTipo(tipo);\n\t\t\tvar.setNumeroTelefono(tel);\n\t\t\tvar.setDNI(data);\n\t\t}\n\t\telse if (tipo.equals(\"juridica\")) {\n\t\t\tString tel = this.obtenerNumeroLibre();\n\t\t\tvar.setNombre(nombre);\n\t\t\tvar.setTipo(tipo);\n\t\t\tvar.setNumeroTelefono(tel);\n\t\t\tvar.setCuit(data);\n\t\t}\n\t\tclientes.add(var);\n\t\treturn var;\n\t}",
      "metadata": {
        "trusted": true
      },
      "outputs": [],
      "execution_count": null
    },
    {
      "cell_type": "markdown",
      "source": "### Refactoring 1: replace conditional with polymorfism.",
      "metadata": {}
    },
    {
      "cell_type": "code",
      "source": "public class Cliente {\n\tpublic List<Llamada> llamadas;\n\tprivate String nombre;\n\tprivate String numeroTelefono;\n\n\tpublic Cliente(String nombre) {\n\t\tthis.llamadas = new ArrayList<Llamada>();\n\t\tthis.nombre = nombre;\n\t}\n\npublic class ClienteFisica extends Cliente{\n\tprivate String dni;\n\n\tpublic ClienteFisica(String nombre, String dni) {\n\t\tsuper(nombre);\n\t\tthis.dni = dni;\n\t}\n\tpublic String getDNI() {\n\t\treturn dni;\n\t}\n}\n\npublic class ClienteJuridica extends Cliente{\n\tprivate String cuit;\n\t\n\tpublic ClienteJuridica(String nombre, String cuit) {\n\t\tsuper(nombre);\n\t\tthis.cuit = cuit;\n\t}\n\n\tpublic String getCuit() {\n\t\treturn cuit;\n\t}\n}\n",
      "metadata": {
        "trusted": true
      },
      "outputs": [],
      "execution_count": null
    },
    {
      "cell_type": "markdown",
      "source": "### Refactoring 2: introducir un objeto por parametro.",
      "metadata": {}
    },
    {
      "cell_type": "markdown",
      "source": "Este segundo paso lo hacemos porque los clientes pueden ser de 2 tipos diferentes.",
      "metadata": {}
    },
    {
      "cell_type": "code",
      "source": "public class Empresa {\n    public Cliente registrarUsuario(Cliente cliente) {\n\t\tcliente.setNumeroTelefono(this.obtenerNumeroLibre());\n        clientes.add(cliente);\n\t\treturn cliente;\n\t}\n}",
      "metadata": {
        "trusted": true
      },
      "outputs": [],
      "execution_count": null
    },
    {
      "cell_type": "markdown",
      "source": "# Test: Pasa un objeto usuario por parametro",
      "metadata": {}
    },
    {
      "cell_type": "code",
      "source": "\t@Test\n\tvoid testAgregarUsuario() {\n\t\tassertEquals(this.sistema.cantidadDeUsuarios(), 0);\n\t\tthis.sistema.agregarNumeroTelefono(\"2214444558\"); \n\t\tCliente nuevaPersona = new ClienteFisica(\"Alan Turing\", \"2444555\");\n\t\tsistema.registrarUsuario(nuevaPersona);\n\n\t\tassertEquals(1, this.sistema.cantidadDeUsuarios());\n\t\tassertTrue(this.sistema.existeUsuario(nuevaPersona));\n\t}",
      "metadata": {
        "trusted": true
      },
      "outputs": [],
      "execution_count": null
    },
    {
      "cell_type": "markdown",
      "source": "# Mal olor: Lista de parametros larga",
      "metadata": {}
    },
    {
      "cell_type": "code",
      "source": "public class Empresa {\n    public Llamada registrarLlamada(Cliente origen, Cliente destino, String t, int duracion) {\n\t\tLlamada llamada = new Llamada(t, origen.getNumeroTelefono(), destino.getNumeroTelefono(), duracion);\n\t\tllamadas.add(llamada);\n\t\torigen.llamadas.add(llamada);\n\t\treturn llamada;\n\t}\n}",
      "metadata": {
        "trusted": true
      },
      "outputs": [],
      "execution_count": null
    },
    {
      "cell_type": "markdown",
      "source": "### Refactoring: Introuducir como parametro un objeto",
      "metadata": {}
    },
    {
      "cell_type": "code",
      "source": "public class Empresa {\n    public Llamada registrarLlamada(Cliente origen, Llamada llamada) {\n\t\tllamadas.add(llamada);\n\t\torigen.llamadas.add(llamada);\n\t\treturn llamada;\n    }\t\n}",
      "metadata": {
        "trusted": true
      },
      "outputs": [],
      "execution_count": null
    },
    {
      "cell_type": "markdown",
      "source": "# Mal olor: Mala delegacion de las tareas",
      "metadata": {}
    },
    {
      "cell_type": "code",
      "source": "public class Empresa {\n    public Llamada registrarLlamada(Cliente origen, Llamada llamada) {\n\t\tllamadas.add(llamada);\n\t\torigen.llamadas.add(llamada);\n\t\treturn llamada;\n\t}\n}",
      "metadata": {
        "trusted": true
      },
      "outputs": [],
      "execution_count": null
    },
    {
      "cell_type": "markdown",
      "source": "### Refactoring: Move method",
      "metadata": {}
    },
    {
      "cell_type": "code",
      "source": "public class Cliente\npublic void agregarLlamada(Llamada llamada) {\n\t\tthis.llamadas.add(llamada);\n\t}\n\npublic class Empresa\n\tpublic Llamada registrarLlamada(Cliente origen, Llamada llamada) {\n\t\torigen.agregarLlamada(llamada);\n\t\treturn llamada;\n\t}",
      "metadata": {
        "trusted": true
      },
      "outputs": [],
      "execution_count": null
    },
    {
      "cell_type": "markdown",
      "source": "# Test: En el registrar llamada pasamos un objeto llamada",
      "metadata": {}
    },
    {
      "cell_type": "code",
      "source": "@Test\n\tvoid testcalcularMontoTotalLlamadas() {\n\t\tCliente emisorPersonaFisca = sistema.registrarUsuario(new ClienteFisica(\"11555666\", \"Brendan Eich\"));\n\t\tCliente remitentePersonaFisica = sistema.registrarUsuario(new ClienteFisica(\"00000001\", \"Doug Lea\"));\n\t\tCliente emisorPersonaJuridica = sistema.registrarUsuario(new ClienteJuridica(\"17555222\", \"Nvidia Corp\"));\n\t\tCliente remitentePersonaJuridica = sistema.registrarUsuario(new ClienteJuridica(\"25765432\", \"Sun Microsystems\"));\n\n\t\tthis.sistema.registrarLlamada(emisorPersonaJuridica, new LlamadaNacional (emisorPersonaJuridica.getNumeroTelefono(), remitentePersonaFisica.getNumeroTelefono(), 10));\n\t\tthis.sistema.registrarLlamada(emisorPersonaJuridica, new LlamadaInternacional (emisorPersonaJuridica.getNumeroTelefono(), remitentePersonaFisica.getNumeroTelefono(), 8));\n\t\tthis.sistema.registrarLlamada(emisorPersonaJuridica, new LlamadaNacional(emisorPersonaJuridica.getNumeroTelefono(), remitentePersonaJuridica.getNumeroTelefono(), 5));\n\t\tthis.sistema.registrarLlamada(emisorPersonaJuridica, new LlamadaInternacional (emisorPersonaJuridica.getNumeroTelefono(), remitentePersonaJuridica.getNumeroTelefono(), 7));\n\t\tthis.sistema.registrarLlamada(emisorPersonaFisca, new LlamadaNacional (emisorPersonaFisca.getNumeroTelefono(), remitentePersonaFisica.getNumeroTelefono(), 15));\n\t\tthis.sistema.registrarLlamada(emisorPersonaFisca, new LlamadaInternacional (emisorPersonaFisca.getNumeroTelefono(), remitentePersonaFisica.getNumeroTelefono(), 45));\n\t\tthis.sistema.registrarLlamada(emisorPersonaFisca, new LlamadaNacional (emisorPersonaFisca.getNumeroTelefono(), remitentePersonaJuridica.getNumeroTelefono(), 13));\n\t\tthis.sistema.registrarLlamada(emisorPersonaFisca, new LlamadaInternacional (emisorPersonaFisca.getNumeroTelefono(), remitentePersonaJuridica.getNumeroTelefono(), 17));\n\n\t\tassertEquals(11454.64, this.sistema.calcularMontoTotalLlamadas(emisorPersonaFisca), 0.01);\n\t\tassertEquals(2445.40, this.sistema.calcularMontoTotalLlamadas(emisorPersonaJuridica), 0.01);\n\t\tassertEquals(0, this.sistema.calcularMontoTotalLlamadas(remitentePersonaFisica));\n\t\tassertEquals(0, this.sistema.calcularMontoTotalLlamadas(remitentePersonaJuridica));\n\t}\n",
      "metadata": {
        "trusted": true
      },
      "outputs": [],
      "execution_count": null
    },
    {
      "cell_type": "markdown",
      "source": "# Mal olor: switch statements",
      "metadata": {}
    },
    {
      "cell_type": "code",
      "source": "public class Empresa {\n    public double calcularMontoTotalLlamadas(Cliente cliente){\n    double auxc = 0;\n        if (l.getTipoDeLlamada() == \"nacional\") {\n            // el precio es de 3 pesos por segundo más IVA sin adicional por establecer la llamada\n            auxc += l.getDuracion() * 3 + (l.getDuracion() * 3 * 0.21);\n        } else if (l.getTipoDeLlamada() == \"internacional\") {\n            // el precio es de 150 pesos por segundo más IVA más 50 pesos por establecer la llamada\n            auxc += l.getDuracion() * 150 + (l.getDuracion() * 150 * 0.21) + 50;\n        }\n}",
      "metadata": {
        "trusted": true
      },
      "outputs": [],
      "execution_count": null
    },
    {
      "cell_type": "markdown",
      "source": "### Refactoring 1: replace conditional with polymorfism.",
      "metadata": {}
    },
    {
      "cell_type": "code",
      "source": "public class Llamada {\n\tprivate String origen;\n\tprivate String destino;\n\tprivate int duracion;\n\n\tpublic Llamada(String origen, String destino, int duracion){\n\t\tthis.origen= origen;\n\t\tthis.destino= destino;\n\t\tthis.duracion = duracion;\n\t}\n\n    pubic abstract double getPrecioMasIVA():\n\npublic class LlamadaNacional extends Llamada{\n\tpublic LlamadaNacional(String origen, String destino, int duracion) {\n\t\tsuper(origen, destino, duracion);\n\t}\n\n    pubic double getPrecioMasIVA(){\n        return this.duracion() * 150 + (this.duracion() * 150 * 0.21);\n    }\n}\npublic class LlamadaInternacional extends Llamada{\n\tpublic LlamadaInternacional(String origen, String destino, int duracion, double iva, double precio){\n\t\tsuper(origen, destino, duracion, iva, precio);\n\t}\n\n    pubic double getPrecioMasIVA()[\n        return this.duracion() * 150 + (this.duracion() * 150 * 0.21) + 50;\n    ]\n}\n\nclass Empresa {\n    public double calcularMontoTotalLlamadas(Cliente cliente) {\n        double auxc = l.getPrecioMasIVA();\n    }\n}",
      "metadata": {
        "trusted": true
      },
      "outputs": [],
      "execution_count": null
    },
    {
      "cell_type": "markdown",
      "source": "# Mal olor: se usan directamente valor fijos que deberian ser metodos",
      "metadata": {}
    },
    {
      "cell_type": "code",
      "source": "public class LlamadaNacional extends Llamada{\n\tpublic LlamadaNacional(String origen, String destino, int duracion) {\n\t\tsuper(origen, destino, duracion);\n\t}\n\n    pubic double getPrecioMasIVA(){\n        return this.duracion() * 3 + (this.duracion() * 3 * 0.21);\n    }\n}\npublic class LlamadaInternacional extends Llamada{\n\tpublic LlamadaInternacional(String origen, String destino, int duracion, double iva, double precio){\n\t\tsuper(origen, destino, duracion, iva, precio);\n\t}\n\n    pubic double getPrecioMasIVA()[\n        return this.duracion() * 150 + (this.duracion() * 150 * 0.21) + 50;\n    ]\n}",
      "metadata": {
        "trusted": true
      },
      "outputs": [],
      "execution_count": null
    },
    {
      "cell_type": "markdown",
      "source": "### Refactoring: Replace Temp with Query",
      "metadata": {}
    },
    {
      "cell_type": "code",
      "source": "public class LlamadaNacional extends Llamada{\n\tpublic LlamadaNacional(String origen, String destino, int duracion, double precio) {\n\t\tsuper(origen, destino, duracion, precio);\n\t}\n\n    public double getPrecioMasIVA(){\n        return this.duracion * getPrecio() + (this.duracion * getPrecio() * this.getIVA());\n    }\n\n    public double getPrecio() {\n\t\treturn 3;\n\n\t}\n\n    private double getIVA(){\n        return 0.21;\n    }\n\n}\npublic class LlamadaInternacional extends Llamada{\n\tpublic LlamadaInternacional(String origen, String destino, int duracion, double precio){\n\t\tsuper(origen, destino, duracion,  precio);\n\t}\n    \npublic double getPrecioMasIVA(){\n        return this.duracion * getPrecio() + (this.duracion * getPrecio() * this.getIVA()+50);\n    }\n\n\tpublic double getPrecio() {\n\t\treturn 150;\n\n    private double getIVA(){\n        return 0.21;\n    }\n}\n",
      "metadata": {
        "trusted": true
      },
      "outputs": [],
      "execution_count": null
    },
    {
      "cell_type": "markdown",
      "source": "# Mal olor: codigo repetido",
      "metadata": {}
    },
    {
      "cell_type": "code",
      "source": "public class LlamadaNacional extends Llamada{\n\tpublic LlamadaNacional(String origen, String destino, int duracion, double precio) {\n\t\tsuper(origen, destino, duracion, precio);\n\t}\n\n    public double getPrecioMasIVA(){\n        return this.duracion * getPrecio() + (this.duracion * getPrecio() * this.getIVA());\n    }\n\n    public double getPrecio() {\n\t\treturn 3;\n\n\t}\n\n    private double getIVA(){\n        return 0.21;\n    }\n\n}\npublic class LlamadaInternacional extends Llamada{\n\tpublic LlamadaInternacional(String origen, String destino, int duracion, double precio){\n\t\tsuper(origen, destino, duracion,  precio);\n\t}\n    \n    public double getPrecioMasIVA(){\n        return this.duracion * getPrecio() + (this.duracion * getPrecio() * this.getIVA()+50);\n    }\n\n\tpublic double getPrecio() {\n\t\treturn 150;\n\n    private double getIVA(){\n        return 0.21;\n    }\n}\n",
      "metadata": {
        "trusted": true
      },
      "outputs": [],
      "execution_count": null
    },
    {
      "cell_type": "markdown",
      "source": "### Refactoring: From temple method",
      "metadata": {}
    },
    {
      "cell_type": "markdown",
      "source": "#### Paso 1: Compose method",
      "metadata": {}
    },
    {
      "cell_type": "code",
      "source": "public abstarct class Llamada {\n\tprivate String origen;\n\tprivate String destino;\n\tprivate int duracion;\n\n\tpublic Llamada(String origen, String destino, int duracion){\n\t\tthis.origen= origen;\n\t\tthis.destino= destino;\n\t\tthis.duracion = duracion;\n\t}\n    public abstract double getPrecioMasIVA();\n\n\npublic class LlamadaNacional extends Llamada{\n\tpublic LlamadaNacional(String origen, String destino, int duracion, double precio) {\n\t\tsuper(origen, destino, duracion, precio);\n\t}\n    public double getPrecioMasIVA(){\n        return this.duracion * getPrecio() + (this.duracion * getPrecio() * this.getIVA() + this.getAdicional());\n    }\n\tpublic double getPrecio() {\n\t\treturn 3;\n\t}\n    private double getIVA(){\n        return 0.21;\n    }\n    public double getAdional(){\n        return 0;\n    }\n\n\n}\npublic class LlamadaInternacional extends Llamada{\n\tpublic LlamadaInternacional(String origen, String destino, int duracion, double precio){\n\t\tsuper(origen, destino, duracion,  precio);\n\t}\n    public double getPrecioMasIVA(){\n        return this.duracion * getPrecio() + (this.duracion * getPrecio() * this.getIVA() + this.getAdicional());\n    }\n    private double getIVA(){\n        return 0.21;\n    }\n\tpublic double getPrecio() {\n\t\treturn 150;\n\t}\n    public double getAdional(){\n        return 50;\n    }\n\n",
      "metadata": {
        "trusted": true
      },
      "outputs": [],
      "execution_count": null
    },
    {
      "cell_type": "markdown",
      "source": "#### Paso 2: Pull up",
      "metadata": {}
    },
    {
      "cell_type": "code",
      "source": "public abstract class Llamada {\n\tprivate String origen;\n\tprivate String destino;\n\tprivate int duracion;\n\n\tpublic Llamada(String origen, String destino, int duracion){\n\t\tthis.origen= origen;\n\t\tthis.destino= destino;\n\t\tthis.duracion = duracion;\n\t}\n\n    public abstract double getPrecio();\n    public abstract double getAdional();\n\n    public double getPrecioMasIVA(){\n        return this.duracion * getPrecio() + (this.duracion * getPrecio() * this.getIVA() + this.getAdicional());\n    }\n\n    private double getIVA(){\n        return 0.21;\n    }\n\n\n]\n\npublic class LlamadaNacional extends Llamada{\n\tpublic LlamadaNacional(String origen, String destino, int duracion, double precio) {\n\t\tsuper(origen, destino, duracion, precio);\n\t}\n\tpublic double getPrecio() {\n\t\treturn 3;\n\t}\n    public double getAdional(){\n        return 0;\n    }\n\n\n}\npublic class LlamadaInternacional extends Llamada{\n\tpublic LlamadaInternacional(String origen, String destino, int duracion, double precio){\n\t\tsuper(origen, destino, duracion,  precio);\n\t}\n\tpublic double getPrecio() {\n\t\treturn 150;\n\t}\n\n    public double getAdional(){\n        return 50;\n    }\n",
      "metadata": {
        "trusted": true
      },
      "outputs": [],
      "execution_count": null
    },
    {
      "cell_type": "markdown",
      "source": "# Mal olor: variables mal delegadas",
      "metadata": {}
    },
    {
      "cell_type": "code",
      "source": "public class Empresa {\n    static double descuentoJur = 0.15;\n    static double descuentoFis = 0;",
      "metadata": {
        "trusted": true
      },
      "outputs": [],
      "execution_count": null
    },
    {
      "cell_type": "markdown",
      "source": "### Refactoring: move variable.",
      "metadata": {}
    },
    {
      "cell_type": "code",
      "source": "public class ClienteJuridica extends Cliente{\n\tprivate String cuit;\n\tstatic double descuentoJur = 0.15;\n\npublic class ClienteFisica extends Cliente{\n\tprivate String dni;\n\tstatic double descuentoFis = 0;",
      "metadata": {
        "trusted": true
      },
      "outputs": [],
      "execution_count": null
    },
    {
      "cell_type": "markdown",
      "source": "# Mal olor: variables de instancia que deberian ser temporales",
      "metadata": {}
    },
    {
      "cell_type": "code",
      "source": "public class ClienteJuridica extends Cliente{\n\tprivate String cuit;\n\tstatic double descuentoJur = 0.15;\n\npublic class ClienteFisica extends Cliente{\n\tprivate String dni;\n\tstatic double descuentoFis = 0;\n",
      "metadata": {
        "trusted": true
      },
      "outputs": [],
      "execution_count": null
    },
    {
      "cell_type": "markdown",
      "source": "### Refactoring: Replace Temp with Query",
      "metadata": {}
    },
    {
      "cell_type": "code",
      "source": "public abstract class Cliente {\n\tpublic abstract double getDescuento();\n\npublic class ClienteJuridica extends Cliente{\n\tprivate String cuit;\n\n\tpublic double getDescuento() {\n\t\treturn 0.15;\n}\n\npublic class ClienteFisica extends Cliente{\n\tprivate String dni;\n\n\tpublic double getDescuento() {\n\t\treturn 0;\n}\n",
      "metadata": {
        "trusted": true
      },
      "outputs": [],
      "execution_count": null
    },
    {
      "cell_type": "markdown",
      "source": "# Mal olor: Switch staments",
      "metadata": {}
    },
    {
      "cell_type": "code",
      "source": "public class Empresa{\npublic double calcularMontoTotalLlamadas(Cliente cliente){\n    if (cliente.getTipo() == \"fisica\") {\n\t\t\t\tauxc -= auxc*descuentoFis;\n\t\t\t} else if(cliente.getTipo() == \"juridica\") {\n\t\t\t\tauxc -= auxc*descuentoJur;\n\t\t\t}\n}",
      "metadata": {
        "trusted": true
      },
      "outputs": [],
      "execution_count": null
    },
    {
      "cell_type": "markdown",
      "source": "### Refactoring: Repalce conditional with polymorfism (hicimos la jerarquia de clientes en pasos anteriores)",
      "metadata": {}
    },
    {
      "cell_type": "code",
      "source": "public class Empresa{\npublic double calcularMontoTotalLlamadas(Cliente cliente){\nauxc -= auxc* cliente.getDescuento();\n}",
      "metadata": {
        "trusted": true
      },
      "outputs": [],
      "execution_count": null
    },
    {
      "cell_type": "markdown",
      "source": "# Mal olor: Envidia de atributos y mala delegacion de tareas",
      "metadata": {}
    },
    {
      "cell_type": "code",
      "source": "public class Empresa{\npublic double calcularMontoTotalLlamadas(Cliente cliente) {\n\t\tdouble c = 0;\n\t\tfor (Llamada l : cliente.llamadas) {\n\t\t\tdouble auxc = l.getPrecioMasIVA();\n\t\t\tauxc -= auxc*cliente.getDescuento();\n\t\t\tc += auxc;\n\t\t}\n\t\treturn c;\n\t}\n}",
      "metadata": {
        "trusted": true
      },
      "outputs": [],
      "execution_count": null
    },
    {
      "cell_type": "markdown",
      "source": "### Refactoring: Move method",
      "metadata": {}
    },
    {
      "cell_type": "code",
      "source": "public class Empresa{\n    public double calcularMontoTotalLlamadas(Cliente cliente) {\n\t\treturn cliente.calcularMontoTotalLlamadas();\n\t}\n\npublic class Cliente{\n    public double calcularMontoTotalLlamadas() {\n\t\tdouble c = 0;\n\t\tfor (Llamada l : llamadas) {\n\t\t\tdouble auxc = l.getPrecioMasIVA();\n\t\t\tauxc -= auxc*this.getDescuento();\n\t\t\tc += auxc;\n\t\t}\n\t\treturn c;\n\t}\n}",
      "metadata": {
        "trusted": true
      },
      "outputs": [],
      "execution_count": null
    },
    {
      "cell_type": "markdown",
      "source": "# Mal olor: Los nombres de las variables no indican su rol",
      "metadata": {}
    },
    {
      "cell_type": "code",
      "source": "public class Cliente{\n    public double calcularMontoTotalLlamadas() {\n\t\tdouble c = 0;\n\t\tfor (Llamada l : llamadas) {\n\t\t\tdouble auxc = l.getPrecioMasIVA();\n\t\t\tauxc -= auxc*this.getDescuento();\n\t\t\tc += auxc;\n\t\t}\n\t\treturn c;\n\t}\n}",
      "metadata": {
        "trusted": true
      },
      "outputs": [],
      "execution_count": null
    },
    {
      "cell_type": "markdown",
      "source": "### Refactoring: Rename variable",
      "metadata": {}
    },
    {
      "cell_type": "code",
      "source": "public class Cliente{\n    public double calcularMontoTotalLlamadas() {\n\t\tdouble montoTotal = 0;\n\t\tfor (Llamada l : llamadas) {\n\t\t\tdouble precioLlamada = l.getPrecioMasIVA();\n\t\t\tprecioLlamada -= precioLlamada*this.getDescuento();\n\t\t\tmontoTotal += precioLlamada;\n\t\t}\n\t\treturn montoTotal;\n\t}\n}",
      "metadata": {
        "trusted": true
      },
      "outputs": [],
      "execution_count": null
    },
    {
      "cell_type": "markdown",
      "source": "# Mal olor: Reinventa la rueda",
      "metadata": {}
    },
    {
      "cell_type": "code",
      "source": "public class Cliente{\n    public double calcularMontoTotalLlamadas() {\n\t\tdouble montoTotal = 0;\n\t\tfor (Llamada l : llamadas) {\n\t\t\tdouble precioLlamada = l.getPrecioMasIVA();\n\t\t\tprecioLlamada -= precioLlamada*this.getDescuento();\n\t\t\tmontoTotal += precioLlamada;\n\t\t}\n\t\treturn montoTotal;\n\t}\n}",
      "metadata": {
        "trusted": true
      },
      "outputs": [],
      "execution_count": null
    },
    {
      "cell_type": "markdown",
      "source": "### Refactoring: Replace Loop with Pipeline",
      "metadata": {}
    },
    {
      "cell_type": "code",
      "source": "public class Cliente{\n    public double calcularMontoTotalLlamadas() {\n        return llamadas.stream()\n            .mapToDouble(l -> l.getPrecioMasIVA() * (1 - this.getDescuento()))\n            .sum();\n    }\n}",
      "metadata": {
        "trusted": true
      },
      "outputs": [],
      "execution_count": null
    },
    {
      "cell_type": "markdown",
      "source": "# Mal olor: Método largo",
      "metadata": {}
    },
    {
      "cell_type": "code",
      "source": "public class Empresa{\n    public boolean agregarNumeroTelefono(String str) {\n\t\tboolean encontre = guia.getLineas().contains(str);\n\t\tif (!encontre) {\n\t\t\tguia.getLineas().add(str);\n\t\t\tencontre= true;\n\t\t\treturn encontre;\n\t\t}\n\t\telse {\n\t\t\tencontre= false;\n\t\t\treturn encontre;\n\t\t}\n\t}\n}",
      "metadata": {
        "trusted": true
      },
      "outputs": [],
      "execution_count": null
    },
    {
      "cell_type": "markdown",
      "source": "### Refactor: Extract method",
      "metadata": {}
    },
    {
      "cell_type": "markdown",
      "source": "Acomodamos el if para que sea mas legible y eliminamos variables necesarios que no eran necesarias en este metodo corto. ",
      "metadata": {}
    },
    {
      "cell_type": "code",
      "source": "public class Empresa{\n    public boolean agregarNumeroTelefono(String str) {\n    \t\tif (encontreNumero(str)) \n    \t\t\treturn false;\n    \t\telse {\n    \t\t\tguia.getLineas().add(str);\n    \t\t\treturn true;\n    \t\t}\n    \t}\n    \n    private boolean encontreNumero(String str){\n        return guia.getLineas().contains(str);\n    }\n}",
      "metadata": {
        "trusted": true
      },
      "outputs": [],
      "execution_count": null
    },
    {
      "cell_type": "markdown",
      "source": "# Mal olor: Envidia de atributos, romper encapsulamiento y mala delegacion",
      "metadata": {}
    },
    {
      "cell_type": "code",
      "source": "public class Empresa{\n    public boolean agregarNumeroTelefono(String str) {\n    \t\tif (encontreNumero(str)) \n    \t\t\treturn false;\n    \t\telse {\n    \t\t\tguia.getLineas().add(str);\n    \t\t\treturn true;\n    \t\t}\n    \t}",
      "metadata": {
        "trusted": true
      },
      "outputs": [],
      "execution_count": null
    },
    {
      "cell_type": "markdown",
      "source": "### Refactoring: Move method",
      "metadata": {}
    },
    {
      "cell_type": "code",
      "source": "public class Empresa{\n    public boolean agregarNumeroTelefono(String str) {\n    \treturn guia.agregarNumeroTelefono(String str);\n}\n\npublic class GestorNumeroDisponible{\n    public boolean agregarNumeroTelefono(String str) {\n\t\tif (encontreNumero(str)) \n\t\t\treturn false;\n\t\telse {\n\t\t\tthis.getLineas().add(str);\n\t\t\treturn true;\n\t\t}\n\t}\n\n\tprivate boolean encontreNumero(String str){\n\t    return this.getLineas().contains(str);\n\t}",
      "metadata": {
        "trusted": true
      },
      "outputs": [],
      "execution_count": null
    },
    {
      "cell_type": "markdown",
      "source": "# Mal olor: Metodo largo ",
      "metadata": {}
    },
    {
      "cell_type": "code",
      "source": "public class GestorNumeroDisponible{\n    public boolean agregarNumeroTelefono(String str) {\n\t\tif (encontreNumero(str)) \n\t\t\treturn false;\n\t\telse {\n\t\t\tthis.getLineas().add(str);\n\t\t\treturn true;\n\t\t}\n\t}",
      "metadata": {
        "trusted": true
      },
      "outputs": [],
      "execution_count": null
    },
    {
      "cell_type": "markdown",
      "source": "### Refactoring: Extract method",
      "metadata": {}
    },
    {
      "cell_type": "code",
      "source": "public class GestorNumeroDisponible{\n    public boolean agregarNumeroTelefono(String str) {\n\t\tif (encontreNumero(str)) \n\t\t\treturn false;\n\t\telse \n\t\t\treturn agregarNumero(str);\n    }\t\n\n    private boolean agregarNumero(String str){\n        this.getLineas().add(str);\n\t\treturn true;\n    }\n\t}",
      "metadata": {
        "trusted": true
      },
      "outputs": [],
      "execution_count": null
    },
    {
      "cell_type": "markdown",
      "source": "# Mal olor: Nombres de las variables no indican su rol",
      "metadata": {}
    },
    {
      "cell_type": "code",
      "source": "public class GestorNumeroDisponible{\n    public boolean agregarNumeroTelefono(String str) {\n\t\tif (encontreNumero(str)) \n\t\t\treturn false;\n\t\telse \n\t\t\treturn agregarNumero(str);\n    }\t\n\n    private boolean agregarNumero(String str){\n        this.getLineas().add(str);\n\t\treturn true;\n    }\n\tprivate boolean encontreNumero(String str){\n\t    return this.getLineas().contains(str);\n\t}",
      "metadata": {
        "trusted": true
      },
      "outputs": [],
      "execution_count": null
    },
    {
      "cell_type": "markdown",
      "source": "### Refactoring: Rename variable",
      "metadata": {}
    },
    {
      "cell_type": "code",
      "source": "public class GestorNumeroDisponible{\n    public boolean agregarNumeroTelefono(String numeroNuevo) {\n\t\tif (encontreNumero(numeroNuevo)) \n\t\t\treturn false;\n\t\telse \n\t\t\treturn agregarNumero(numeroNuevo);\n    }\t\n\n    private boolean agregarNumero(String numeroNuevo){\n        this.getLineas().add(numeroNuevo);\n\t\treturn true;\n    }\n\n\tprivate boolean encontreNumero(String numeroNuevo){\n\t    return this.getLineas().contains(numeroNuevo);\n\t}",
      "metadata": {
        "trusted": true
      },
      "outputs": [],
      "execution_count": null
    },
    {
      "cell_type": "markdown",
      "source": "# Mal olor: Nombres de las variables no indican su rol",
      "metadata": {}
    },
    {
      "cell_type": "code",
      "source": "public class Empresa {\n\tprivate List<Cliente> clientes = new ArrayList<Cliente>();\n\tprivate List<Llamada> llamadas = new ArrayList<Llamada>();\n\tprivate GestorNumerosDisponibles guia = new GestorNumeroDisponibleUltimo();\n\n\n\tpublic boolean agregarNumeroTelefono(String str) {\n\t\tif (encontreNumero(str)) \n\t\t\treturn false;\n\t\telse {\n\t\t\tguia.getLineas().add(str);\n\t\t\treturn true;\n\t\t}\n\t}\n\n\tprivate boolean encontreNumero(String str){\n\t    return guia.getLineas().contains(str);\n\t}\n\t\n\tpublic String obtenerNumeroLibre() {\n\t\treturn guia.obtenerNumeroLibre();\n\t}\n\n\tpublic GestorNumerosDisponibles getGestorNumeros() {\n\t\treturn this.guia;\n\t}\n\t\n\tpublic void cambiarTipoGenerador(GestorNumerosDisponibles valor) {\n\t\tSortedSet<String> lineas = guia.getLineas();\n\t\tthis.guia = valor;\n\t\tguia.setLineas(lineas);\n\t}\n}\n",
      "metadata": {
        "trusted": true
      },
      "outputs": [],
      "execution_count": null
    },
    {
      "cell_type": "markdown",
      "source": "### Refactoring: Rename variable",
      "metadata": {}
    },
    {
      "cell_type": "code",
      "source": "public class Empresa\npublic boolean agregarNumeroTelefono(String numeroNuevo) {\n\t\tif (encontreNumero(numeroNuevo)) \n\t\t\treturn false;\n\t\telse {\n\t\t\tguiaNumeros.getLineas().add(numeroNuevo);\n\t\t\treturn true;\n\t\t}\n\t}\n\n\tprivate boolean encontreNumero(String numero){\n\t    return guiaNumeros.getLineas().contains(numero);\n\t}\n\t\n\tpublic String obtenerNumeroLibre() {\n\t\treturn guiaNumeros.obtenerNumeroLibre();\n\t}\n\n\tpublic Cliente registrarUsuario(Cliente cliente) {\n\t\tcliente.setNumeroTelefono(this.obtenerNumeroLibre());\n\t\tclientes.add(cliente);\n\t\treturn cliente;\n\t}\n\n\tpublic Llamada registrarLlamada(Cliente origen, Llamada llamada) {\n\t\torigen.agregarLlamada(llamada);\n\t\treturn llamada;\n\t}\n\n\tpublic double calcularMontoTotalLlamadas(Cliente cliente) {\n\t\treturn cliente.calcularMontoTotalLlamadas();\n\t}\n\n\tpublic int cantidadDeUsuarios() {\n\t\treturn clientes.size();\n\t}\n\n\tpublic boolean existeUsuario(Cliente persona) {\n\t\treturn clientes.contains(persona);\n\t}\n\n\tpublic GestorNumerosDisponibles getGestorNumeros() {\n\t\treturn this.guiaNumeros;\n\t}\n\t\n\tpublic void cambiarTipoGenerador(GestorNumerosDisponibles guiaNumerosNueva) {\n\t\tSortedSet<String> lineas = guiaNumeros.getLineas();\n\t\tthis.guiaNumeros = guiaNumerosNueva;\n\t\tguiaNumeros.setLineas(lineas);\n\t}\n}\n",
      "metadata": {
        "trusted": true
      },
      "outputs": [],
      "execution_count": null
    }
  ]
}